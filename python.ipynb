{
 "cells": [
  {
   "cell_type": "markdown",
   "metadata": {},
   "source": [
    "# Basic Python"
   ]
  },
  {
   "cell_type": "markdown",
   "metadata": {},
   "source": [
    "Source: https://youtu.be/XKHEtdqhLK8, stops at 02:44:00"
   ]
  },
  {
   "cell_type": "markdown",
   "metadata": {},
   "source": [
    "## String"
   ]
  },
  {
   "cell_type": "markdown",
   "metadata": {},
   "source": [
    "### String methods"
   ]
  },
  {
   "cell_type": "code",
   "execution_count": 1,
   "metadata": {},
   "outputs": [
    {
     "name": "stdout",
     "output_type": "stream",
     "text": [
      "20\n",
      "PYTHON FOR BEGINNERS\n",
      "python for beginners\n",
      "Python for beginners\n",
      "False\n",
      "False\n",
      "2\n",
      "11\n",
      "Python for Absolute Beginners\n",
      "True\n",
      "False\n"
     ]
    }
   ],
   "source": [
    "course = 'Python for Beginners'\n",
    "print(len(course)) # 20\n",
    "print(course.upper()) # PYTHON FOR BEGINNERS\n",
    "print(course.lower()) # python for beginners\n",
    "print(course.capitalize()) # Python for Beginners\n",
    "print(course.isdigit()) # False\n",
    "print(course.isalpha()) # False # contains a space\n",
    "print(course.count(\"o\")) # 2\n",
    "print(course.find('Beginners')) # 11\n",
    "print(course.replace('Beginners', 'Absolute Beginners')) # Python for Absolute Beginners\n",
    "print('Python' in course) # True\n",
    "print('python' in course) # False"
   ]
  },
  {
   "cell_type": "markdown",
   "metadata": {},
   "source": [
    "##### Type casting"
   ]
  },
  {
   "cell_type": "code",
   "execution_count": 5,
   "metadata": {},
   "outputs": [
    {
     "name": "stdout",
     "output_type": "stream",
     "text": [
      "Your weight (in kg) is: 31.75144\n"
     ]
    }
   ],
   "source": [
    "weight_lbs = 70 # input('Your weight (in lbs) is: ')\n",
    "weight_kg = float(weight_lbs) * 0.453592\n",
    "print('Your weight (in kg) is: ' + str(weight_kg))"
   ]
  },
  {
   "cell_type": "markdown",
   "metadata": {},
   "source": [
    "##### User input"
   ]
  },
  {
   "cell_type": "code",
   "execution_count": 7,
   "metadata": {},
   "outputs": [
    {
     "name": "stdout",
     "output_type": "stream",
     "text": [
      "Hello Huy\n",
      "You are 18 years old\n",
      "You are 170.4 cm tall\n"
     ]
    }
   ],
   "source": [
    "name = input(\"What is your name?: \")\n",
    "age = int(input(\"How old are you?: \"))\n",
    "height = float(input(\"How tall are you?: \"))\n",
    "\n",
    "print(\"Hello \" + name)\n",
    "print(\"You are \" + str(age) + \" years old\")\n",
    "print(\"You are \" + str(height) + \" cm tall\")"
   ]
  },
  {
   "cell_type": "markdown",
   "metadata": {},
   "source": [
    "##### Math operators"
   ]
  },
  {
   "cell_type": "code",
   "execution_count": 8,
   "metadata": {},
   "outputs": [
    {
     "name": "stdout",
     "output_type": "stream",
     "text": [
      "3\n",
      "4\n",
      "3\n",
      "3.14\n",
      "9.8596\n",
      "1.772004514666935\n",
      "3\n",
      "2\n"
     ]
    }
   ],
   "source": [
    "import math # https://docs.python.org/3/library/math.html\n",
    "\n",
    "pi = 3.14\n",
    "x = 1\n",
    "y = 2\n",
    "z = 3\n",
    "\n",
    "print(round(pi))\n",
    "print(math.ceil(pi))\n",
    "print(math.floor(pi))\n",
    "print(abs(pi))\n",
    "print(pow(pi, 2))\n",
    "print(math.sqrt(pi))\n",
    "print(max(x, y, z))\n",
    "print(min(z, y, z))"
   ]
  },
  {
   "cell_type": "markdown",
   "metadata": {},
   "source": [
    "##### String slicing"
   ]
  },
  {
   "cell_type": "code",
   "execution_count": 10,
   "metadata": {},
   "outputs": [
    {
     "name": "stdout",
     "output_type": "stream",
     "text": [
      "My name is Ngo Huy\n",
      "My name is Ng\n",
      "me is Ng\n",
      "y name is Ngo Hu\n",
      "yuH ogN si eman yM\n",
      "M aei g u\n"
     ]
    }
   ],
   "source": [
    "course = \"My name is Ngo Huy\" # [start:stop:step]\n",
    "print(course[0:])       # [0:end]\n",
    "print(course[0:13])     # [0:13]\n",
    "print(course[5:13])     # [5:13]\n",
    "print(course[1:-1])     # [1:-1]\n",
    "print(course[::-1])     # [0:end:-1] reverse string\n",
    "print(course[::2])      # [0:end:2]"
   ]
  },
  {
   "cell_type": "code",
   "execution_count": 16,
   "metadata": {},
   "outputs": [
    {
     "name": "stdout",
     "output_type": "stream",
     "text": [
      "google\n",
      "wikipedia\n"
     ]
    }
   ],
   "source": [
    "website1 = \"https://google.com\"\n",
    "website2 = \"https://wikipedia.com\"\n",
    "slice = __builtin__.slice(8, -4) #Now that's strange. Are you running it in a clean notebook? The only reason I could see that happening is if slice was reassigned.\n",
    "print(website1[slice])\n",
    "print(website2[slice])"
   ]
  },
  {
   "cell_type": "markdown",
   "metadata": {},
   "source": [
    "## If- statement"
   ]
  },
  {
   "cell_type": "code",
   "execution_count": 19,
   "metadata": {},
   "outputs": [
    {
     "name": "stdout",
     "output_type": "stream",
     "text": [
      "You are fucking old!\n"
     ]
    }
   ],
   "source": [
    "age = int(input(\"How old are you?: \"))\n",
    "if age >= 18 and age < 100:\n",
    "    print(\"You are an adult!\")\n",
    "elif age == 100:\n",
    "    print(\"You are fucking old!\")\n",
    "elif age < 0:\n",
    "    print(\"You haven't been born yet!\")\n",
    "else:\n",
    "    print(\"You are a child!\")"
   ]
  },
  {
   "cell_type": "code",
   "execution_count": 27,
   "metadata": {},
   "outputs": [
    {
     "name": "stdout",
     "output_type": "stream",
     "text": [
      "Let's stay inside and Netflix-and-chill!\n"
     ]
    }
   ],
   "source": [
    "temp = int(input(\"What is the temperature outside?: \"))\n",
    "if temp >= 14 and temp <= 30:\n",
    "    print(\"Let's go outside!\")\n",
    "else:\n",
    "    print(\"Let's stay inside and Netflix-and-chill!\")"
   ]
  },
  {
   "cell_type": "markdown",
   "metadata": {},
   "source": [
    "## Loops"
   ]
  },
  {
   "cell_type": "markdown",
   "metadata": {},
   "source": [
    "### While- loop"
   ]
  },
  {
   "cell_type": "code",
   "execution_count": 29,
   "metadata": {},
   "outputs": [
    {
     "name": "stdout",
     "output_type": "stream",
     "text": [
      "Hello Huy\n"
     ]
    }
   ],
   "source": [
    "name = \"\"\n",
    "while not name: # len(name) == 0:\n",
    "    name = input(\"Enter your name: \") # print input name until user input his name\n",
    "print(\"Hello \" + name)"
   ]
  },
  {
   "cell_type": "markdown",
   "metadata": {},
   "source": [
    "### For- loop"
   ]
  },
  {
   "cell_type": "code",
   "execution_count": 43,
   "metadata": {},
   "outputs": [
    {
     "name": "stdout",
     "output_type": "stream",
     "text": [
      "10\n",
      "9\n",
      "8\n",
      "7\n",
      "6\n",
      "5\n",
      "4\n",
      "3\n",
      "2\n",
      "1\n",
      "Happy New Year!\n"
     ]
    }
   ],
   "source": [
    "# for i in range(50, 60 + 1, 2): # range(start, stop, step)\n",
    "#     print(i)\n",
    "\n",
    "# for i in \"Nguyen Ngo Huy\":\n",
    "#     print(i)\n",
    "\n",
    "import time\n",
    "for seconds in range(10, 0, -1):\n",
    "    print(seconds)\n",
    "    time.sleep(1)\n",
    "print(\"Happy New Year!\")"
   ]
  },
  {
   "cell_type": "markdown",
   "metadata": {},
   "source": [
    "### Nested loop"
   ]
  },
  {
   "cell_type": "code",
   "execution_count": 46,
   "metadata": {},
   "outputs": [
    {
     "name": "stdout",
     "output_type": "stream",
     "text": [
      "$$$$$$$$$$$$$$\n",
      "$$$$$$$$$$$$$$\n",
      "$$$$$$$$$$$$$$\n"
     ]
    }
   ],
   "source": [
    "rows = int(input(\"How many rows?: \"))\n",
    "cols = int(input(\"How many columns?: \"))\n",
    "symb = input(\"Enter a symbol: \")\n",
    "\n",
    "for i in range(rows):\n",
    "    for y in range(cols):\n",
    "        print(symb, end = \"\")\n",
    "    print()"
   ]
  },
  {
   "cell_type": "markdown",
   "metadata": {},
   "source": [
    "### Loop control statement"
   ]
  },
  {
   "cell_type": "code",
   "execution_count": 10,
   "metadata": {},
   "outputs": [
    {
     "name": "stdout",
     "output_type": "stream",
     "text": [
      "1, 2, 3, 4, 5, 6, 7, 8, 9, 10, 11, 12, 14, 15, 16, 17, 18, 19, 20\n"
     ]
    }
   ],
   "source": [
    "# while True:\n",
    "#     name = input(\"Enter your name: \")\n",
    "#     if name != \"\":\n",
    "#         break                     # terminates the loop entirely\n",
    "\n",
    "# phone_number = \"096-1808-055\"\n",
    "# for i in phone_number:\n",
    "#     if i == \"-\":\n",
    "#         continue                  # skips to the next iteration of the loop\n",
    "#     print(i, end = \"\")\n",
    "\n",
    "for i in range(1, 21):\n",
    "    if i == 13:\n",
    "        pass                        # does fucking nothing, acts as a placeholder\n",
    "    elif i != 20:\n",
    "        print(i, end = \", \")\n",
    "    else:\n",
    "        print(i)"
   ]
  },
  {
   "cell_type": "markdown",
   "metadata": {},
   "source": [
    "## Lists"
   ]
  },
  {
   "cell_type": "markdown",
   "metadata": {},
   "source": [
    "### List methods"
   ]
  },
  {
   "cell_type": "code",
   "execution_count": 22,
   "metadata": {},
   "outputs": [
    {
     "name": "stdout",
     "output_type": "stream",
     "text": [
      "cake\n",
      "sushi\n",
      "hamburger\n",
      "hotdog\n",
      "ice cream\n"
     ]
    }
   ],
   "source": [
    "food = [\"pizza\", \"hamburger\", \"hotdog\"]\n",
    "food[0] = \"sushi\"\n",
    "food.append(\"ice cream\")\n",
    "# food.remove(\"hotdog\")\n",
    "# food.pop()\n",
    "food.insert(0, \"cake\")\n",
    "# food.sort()\n",
    "# food.clear()\n",
    "for i in food:\n",
    "    print(i)"
   ]
  },
  {
   "cell_type": "markdown",
   "metadata": {},
   "source": [
    "### Multi-dimensional Lists"
   ]
  },
  {
   "cell_type": "code",
   "execution_count": 26,
   "metadata": {},
   "outputs": [
    {
     "name": "stdout",
     "output_type": "stream",
     "text": [
      "[['coffee', 'soda', 'tea'], ['pizza', 'hamburger', 'hotdog'], ['cake', 'ice cream']]\n",
      "----------\n",
      "hamburger\n"
     ]
    }
   ],
   "source": [
    "drinks = [\"coffee\", \"soda\", \"tea\"]\n",
    "dinner = [\"pizza\", \"hamburger\", \"hotdog\"]\n",
    "dessert = [\"cake\", \"ice cream\"]\n",
    "\n",
    "food = [drinks, dinner, dessert]\n",
    "print(food)\n",
    "print(\"----------\")\n",
    "print(food[1][1])"
   ]
  },
  {
   "cell_type": "markdown",
   "metadata": {},
   "source": [
    "### Tuple"
   ]
  },
  {
   "cell_type": "markdown",
   "metadata": {},
   "source": [
    "A tuple is an ordered and unchangeable collection used to group related data together."
   ]
  },
  {
   "cell_type": "code",
   "execution_count": 33,
   "metadata": {},
   "outputs": [
    {
     "name": "stdout",
     "output_type": "stream",
     "text": [
      "1\n",
      "2\n",
      "Huy, 18, male\n",
      "Thank God Huy's here!\n"
     ]
    }
   ],
   "source": [
    "student = (\"Huy\", 18, \"male\")\n",
    "print(student.count(\"Huy\"))\n",
    "print(student.index(\"male\"))\n",
    "for i in student:\n",
    "    if i == \"male\":\n",
    "        print(i)\n",
    "    else:\n",
    "        print(i, end = \", \")\n",
    "if \"Huy\" in student:\n",
    "    print(\"Thank God Huy's here!\")"
   ]
  },
  {
   "cell_type": "markdown",
   "metadata": {},
   "source": [
    "### Set"
   ]
  },
  {
   "cell_type": "markdown",
   "metadata": {},
   "source": [
    "A set is an unordered and unindexed collection. A set does not contain any duplicate values."
   ]
  },
  {
   "cell_type": "code",
   "execution_count": 72,
   "metadata": {},
   "outputs": [
    {
     "name": "stdout",
     "output_type": "stream",
     "text": [
      "{'plate', 'bowl', 'cup'}\n",
      "{'fork', 'knife', 'spoon', 'chopsticks'}\n"
     ]
    }
   ],
   "source": [
    "utensils = {\"fork\", \"spoon\", \"knife\", \"chopsticks\", \"chopsticks\"}\n",
    "# utensils.add(\"napkin\")\n",
    "# utensils.remove(\"chopsticks\")\n",
    "dishes = {\"bowl\", \"plate\", \"cup\"}\n",
    "# utensils.update(dishes) # update one set to another\n",
    "dinner_table = utensils.union(dishes)\n",
    "# for i in utensils:\n",
    "#     print(i)\n",
    "\n",
    "# for i in dinner_table:\n",
    "#     print(i)\n",
    "\n",
    "print(dishes.difference(utensils)) # compare 2 sets\n",
    "print(utensils.difference(dishes)) # compare 2 sets"
   ]
  },
  {
   "cell_type": "markdown",
   "metadata": {},
   "source": [
    "### Dictionary"
   ]
  },
  {
   "cell_type": "markdown",
   "metadata": {},
   "source": [
    "A dictionary is a changeable, unordered collection of unique key:value pairs. The speed of dictionary is fast because it uses hasing, which allows us to access value quicker."
   ]
  },
  {
   "cell_type": "code",
   "execution_count": 91,
   "metadata": {},
   "outputs": [],
   "source": [
    "capitals = {\"USA\": \"Washington, DC.\",\n",
    "            \"India\": \"New Delhi\",\n",
    "            \"China\": \"Beijing\",\n",
    "            \"Vietnam\": \"Hanoi\"}\n",
    "capitals.update({\"Germany\": \"Berlin\"})\n",
    "capitals.update({\"USA\": \"New York\"})\n",
    "capitals.pop(\"China\")\n",
    "capitals.clear()\n",
    "\n",
    "# print(capitals[\"Vietnam\"])\n",
    "# print(capitals.get(\"Germany\"))\n",
    "# print(capitals.keys())\n",
    "# print(capitals.values())\n",
    "# print(capitals.items())\n",
    "\n",
    "for key, value in capitals.items():\n",
    "    print(\"The capital of \" + key + \" is \" + value + \".\")"
   ]
  },
  {
   "cell_type": "markdown",
   "metadata": {},
   "source": [
    "### Index operators"
   ]
  },
  {
   "cell_type": "code",
   "execution_count": 97,
   "metadata": {},
   "outputs": [
    {
     "name": "stdout",
     "output_type": "stream",
     "text": [
      "NGO\n",
      "huy\n",
      "y\n"
     ]
    }
   ],
   "source": [
    "name = \"ngo Huy\"\n",
    "\n",
    "# if (name[0].islower()):\n",
    "#     name = name.capitalize()\n",
    "\n",
    "first_name = name[0:3].upper()\n",
    "last_name = name[4:].lower()\n",
    "last_char = name[-1]\n",
    "\n",
    "print(first_name)\n",
    "print(last_name)\n",
    "print(last_char)"
   ]
  },
  {
   "cell_type": "markdown",
   "metadata": {},
   "source": [
    "## Functions"
   ]
  },
  {
   "cell_type": "markdown",
   "metadata": {},
   "source": [
    "### Arguments and parameters"
   ]
  },
  {
   "cell_type": "code",
   "execution_count": 8,
   "metadata": {},
   "outputs": [
    {
     "name": "stdout",
     "output_type": "stream",
     "text": [
      "Hello Huy Nguyen!\n",
      "You are 18 years old.\n",
      "Have a nice day!\n"
     ]
    }
   ],
   "source": [
    "def hello(first_name, last_name, age):\n",
    "    print(\"Hello \" + first_name + \" \" + last_name + \"!\")\n",
    "    print(\"You are \" + str(age) + \" years old.\")\n",
    "    print(\"Have a nice day!\")\n",
    "\n",
    "hello(\"Huy\", \"Nguyen\", 18)"
   ]
  },
  {
   "cell_type": "markdown",
   "metadata": {},
   "source": [
    "### Return- statement"
   ]
  },
  {
   "cell_type": "code",
   "execution_count": 14,
   "metadata": {},
   "outputs": [
    {
     "name": "stdout",
     "output_type": "stream",
     "text": [
      "48\n",
      "2\n"
     ]
    }
   ],
   "source": [
    "def plus(a, b):\n",
    "    return a + b\n",
    "def minus(a, b):\n",
    "    return a - b\n",
    "def multiply(a, b):\n",
    "    return a * b\n",
    "def divide(a, b):\n",
    "    return a / b\n",
    "def mod(a, b):\n",
    "    return a % b\n",
    "\n",
    "x = multiply(6, 8)\n",
    "y = mod(35, 33)\n",
    "print(x)\n",
    "print(y)"
   ]
  },
  {
   "cell_type": "markdown",
   "metadata": {},
   "source": [
    "### Keyword arguments"
   ]
  },
  {
   "cell_type": "code",
   "execution_count": 15,
   "metadata": {},
   "outputs": [
    {
     "name": "stdout",
     "output_type": "stream",
     "text": [
      "Hello Huy Ngo Nguyen!\n"
     ]
    }
   ],
   "source": [
    "def hello(first, middle, last):\n",
    "    print(\"Hello \" + first + \" \" + middle + \" \" + last + \"!\")\n",
    "\n",
    "hello(last = \"Nguyen\", first = \"Huy\", middle = \"Ngo\")"
   ]
  },
  {
   "cell_type": "markdown",
   "metadata": {},
   "source": [
    "### Nested function"
   ]
  },
  {
   "cell_type": "markdown",
   "metadata": {},
   "source": [
    "A nested function is a function within a function. The innermost function is executed first and returns a value which is used as an argument for the outer functions."
   ]
  },
  {
   "cell_type": "code",
   "execution_count": 17,
   "metadata": {},
   "outputs": [
    {
     "name": "stdout",
     "output_type": "stream",
     "text": [
      "3\n"
     ]
    }
   ],
   "source": [
    "# num = -3.141607\n",
    "# num = float(num)\n",
    "# num = abs(num)\n",
    "# num = round(num)\n",
    "# print(num)\n",
    "\n",
    "print(round(abs(float(-3.141607))))"
   ]
  },
  {
   "cell_type": "markdown",
   "metadata": {},
   "source": [
    "# Variable scope"
   ]
  },
  {
   "cell_type": "code",
   "execution_count": 18,
   "metadata": {},
   "outputs": [
    {
     "name": "stdout",
     "output_type": "stream",
     "text": [
      "Huy\n",
      "Bắp\n"
     ]
    }
   ],
   "source": [
    "name = \"Bắp\" # Global variable\n",
    "def display_name(name):\n",
    "    print(name) # Local variable\n",
    "\n",
    "display_name(\"Huy\")\n",
    "print(name)"
   ]
  },
  {
   "cell_type": "markdown",
   "metadata": {},
   "source": [
    "# Args"
   ]
  },
  {
   "cell_type": "markdown",
   "metadata": {},
   "source": [
    "Arg is a parameter packing all arguments into a **tuple**, which is useful because a function now can accept a varying amount of arguments."
   ]
  },
  {
   "cell_type": "code",
   "execution_count": 20,
   "metadata": {},
   "outputs": [
    {
     "name": "stdout",
     "output_type": "stream",
     "text": [
      "36\n"
     ]
    }
   ],
   "source": [
    "def add(*args):\n",
    "    sum = 0\n",
    "    for i in args:\n",
    "        sum += i\n",
    "    return sum\n",
    "\n",
    "print(add(1, 2, 3, 4, 5, 6, 7, 8))"
   ]
  },
  {
   "cell_type": "code",
   "execution_count": 21,
   "metadata": {},
   "outputs": [
    {
     "name": "stdout",
     "output_type": "stream",
     "text": [
      "132\n"
     ]
    }
   ],
   "source": [
    "def add(*stuff):\n",
    "    sum = 0\n",
    "    stuff = list(stuff)\n",
    "    stuff[3] = 100\n",
    "    for i in stuff:\n",
    "        sum += i\n",
    "    return sum\n",
    "\n",
    "print(add(1, 2, 3, 4, 5, 6, 7, 8))"
   ]
  },
  {
   "cell_type": "markdown",
   "metadata": {},
   "source": [
    "# Kwargs"
   ]
  },
  {
   "cell_type": "markdown",
   "metadata": {},
   "source": [
    "Kwarg is a parameter packing all arguments into a **dictionary**, which is useful because a function now can accept a varying amount of **keyword** arguments."
   ]
  },
  {
   "cell_type": "code",
   "execution_count": 25,
   "metadata": {},
   "outputs": [
    {
     "name": "stdout",
     "output_type": "stream",
     "text": [
      "Hello Mr. Huy Ngo Nguyen "
     ]
    }
   ],
   "source": [
    "def hello(**kwargs):\n",
    "    # print(\"Hello \" + kwargs['first'] + \" \" + kwargs['last'])\n",
    "    print(\"Hello\", end = \" \")\n",
    "    for key, value in kwargs.items():\n",
    "        print(value, end = \" \")\n",
    "\n",
    "hello(title = \"Mr.\", first = \"Huy\", middle = \"Ngo\", last = \"Nguyen\")"
   ]
  },
  {
   "cell_type": "markdown",
   "metadata": {},
   "source": [
    "# String format method"
   ]
  },
  {
   "cell_type": "code",
   "execution_count": 33,
   "metadata": {},
   "outputs": [
    {
     "name": "stdout",
     "output_type": "stream",
     "text": [
      "The cow pooped over the mars.\n",
      "The pooped cow over the mars.\n",
      "The pooped cow over the cow.\n"
     ]
    }
   ],
   "source": [
    "animal = \"cow\"\n",
    "planet = \"mars\"\n",
    "verb = \"pooped\"\n",
    "\n",
    "print(\"The {} {} over the {}.\".format(animal, verb, planet)) # {} is a format field, acts as a placeholder\n",
    "print(\"The {1} {0} over the {2}.\".format(animal, verb, planet)) # positional argument\n",
    "print(\"The {verb} {animal} over the {animal}.\".format(animal = \"cow\", verb = \"pooped\", planet = \"Earth\")) # keyword argument"
   ]
  },
  {
   "cell_type": "code",
   "execution_count": 35,
   "metadata": {},
   "outputs": [
    {
     "name": "stdout",
     "output_type": "stream",
     "text": [
      "The cow pooped over the mars.\n"
     ]
    }
   ],
   "source": [
    "text = \"The {} {} over the {}.\"\n",
    "print(text.format(animal, verb, planet))"
   ]
  },
  {
   "cell_type": "code",
   "execution_count": 40,
   "metadata": {},
   "outputs": [
    {
     "name": "stdout",
     "output_type": "stream",
     "text": [
      "Hello, my name is Bắp. Nice to meet you\n",
      "Hello, my name is Bắp       . Nice to meet you!\n",
      "Hello, my name is Bắp       . Nice to meet you!\n",
      "Hello, my name is        Bắp. Nice to meet you!\n",
      "Hello, my name is    Bắp    . Nice to meet you!\n"
     ]
    }
   ],
   "source": [
    "print(\"Hello, my name is {}. Nice to meet you\".format(name))\n",
    "print(\"Hello, my name is {:10}. Nice to meet you!\".format(name))\n",
    "print(\"Hello, my name is {:<10}. Nice to meet you!\".format(name))\n",
    "print(\"Hello, my name is {:>10}. Nice to meet you!\".format(name))\n",
    "print(\"Hello, my name is {:^10}. Nice to meet you!\".format(name))"
   ]
  },
  {
   "cell_type": "code",
   "execution_count": 51,
   "metadata": {},
   "outputs": [
    {
     "name": "stdout",
     "output_type": "stream",
     "text": [
      "The number pi after 3 decimals is 3.142\n",
      "The number is 1,000,000\n",
      "1000000 in binary is 11110100001001000000\n",
      "1000000 in octal is 3641100\n",
      "1000000 in hexadecimal is F4240\n",
      "1000000 in scientific notation is 1.000000E+06\n"
     ]
    }
   ],
   "source": [
    "pi = 3.14159\n",
    "number = 1000000\n",
    "print(\"The number pi after 3 decimals is {:.3f}\".format(pi))\n",
    "print(\"The number is {:,}\".format(number))\n",
    "print(str(number) + \" in binary is {:b}\".format(number))\n",
    "print(str(number) + \" in octal is {:o}\".format(number))\n",
    "print(str(number) + \" in hexadecimal is {:X}\".format(number))\n",
    "print(str(number) + \" in scientific notation is {:E}\".format(number))"
   ]
  },
  {
   "cell_type": "markdown",
   "metadata": {},
   "source": [
    "# Random module"
   ]
  },
  {
   "cell_type": "code",
   "execution_count": 58,
   "metadata": {},
   "outputs": [
    {
     "name": "stdout",
     "output_type": "stream",
     "text": [
      "3\n",
      "0.8556929177103959\n"
     ]
    }
   ],
   "source": [
    "import random\n",
    "\n",
    "x = random.randint(1, 6)\n",
    "y = random.random()\n",
    "\n",
    "print(x)\n",
    "print(y)"
   ]
  },
  {
   "cell_type": "code",
   "execution_count": 60,
   "metadata": {},
   "outputs": [
    {
     "name": "stdout",
     "output_type": "stream",
     "text": [
      "rock\n"
     ]
    }
   ],
   "source": [
    "rock_paper_scissors = [\"rock\", \"paper\", \"scissors\"]\n",
    "print(random.choice(rock_paper_scissors))"
   ]
  },
  {
   "cell_type": "code",
   "execution_count": 67,
   "metadata": {},
   "outputs": [
    {
     "name": "stdout",
     "output_type": "stream",
     "text": [
      "['Q', 'K', 4, 7, 3, 8, 9, 2, 6, 10, 'J', 1, 'A', 5]\n"
     ]
    }
   ],
   "source": [
    "cards = [1, 2, 3, 4, 5, 6, 7, 8, 9, 10, \"J\", \"Q\", \"K\", \"A\"]\n",
    "random.shuffle(cards)\n",
    "print(cards)"
   ]
  },
  {
   "cell_type": "markdown",
   "metadata": {},
   "source": [
    "# Exception"
   ]
  },
  {
   "cell_type": "markdown",
   "metadata": {},
   "source": [
    "Exception is a series of events detected during execution that interrupt the flow of a program."
   ]
  },
  {
   "cell_type": "code",
   "execution_count": 69,
   "metadata": {},
   "outputs": [
    {
     "name": "stdout",
     "output_type": "stream",
     "text": [
      "invalid literal for int() with base 10: 'pizza'\n",
      "You cannot divide by a string.\n",
      "Process finished with exit code 0.\n"
     ]
    }
   ],
   "source": [
    "try:\n",
    "    numerator = int(input(\"Enter a number to divide: \"))\n",
    "    denominator = int(input(\"Enter a number to divide by: \"))\n",
    "    result = numerator / denominator\n",
    "except ZeroDivisionError as e:\n",
    "    print(e)\n",
    "    print(\"You cannot divide by 0.\")\n",
    "except ValueError as e:\n",
    "    print(e)\n",
    "    print(\"You cannot divide by a string.\")\n",
    "except Exception as e:\n",
    "    print(e)\n",
    "    print(\"Oops. Something went wrong :(\")\n",
    "else:\n",
    "    print(result)\n",
    "finally:\n",
    "    print(\"Process finished with exit code 0.\")"
   ]
  },
  {
   "cell_type": "markdown",
   "metadata": {},
   "source": [
    "# File"
   ]
  },
  {
   "cell_type": "markdown",
   "metadata": {},
   "source": [
    "## File detection"
   ]
  },
  {
   "cell_type": "code",
   "execution_count": 27,
   "metadata": {},
   "outputs": [
    {
     "name": "stdout",
     "output_type": "stream",
     "text": [
      "It exists.\n",
      "It is a file.\n"
     ]
    }
   ],
   "source": [
    "import os\n",
    "path = \"text.txt\"\n",
    "if os.path.exists(path):\n",
    "    print(\"It exists.\")\n",
    "    if os.path.isfile(path):\n",
    "        print(\"It is a file.\")\n",
    "    elif os.path.isdir(path):\n",
    "        print(\"It is a directory.\")\n",
    "else:\n",
    "    print(\"It doesn't exist.\")"
   ]
  },
  {
   "cell_type": "markdown",
   "metadata": {},
   "source": [
    "## File reading"
   ]
  },
  {
   "cell_type": "code",
   "execution_count": 30,
   "metadata": {},
   "outputs": [
    {
     "name": "stdout",
     "output_type": "stream",
     "text": [
      "OMG you're so gorgeous!\n",
      "\n",
      "True\n"
     ]
    }
   ],
   "source": [
    "try:    \n",
    "    with open(\"text.txt\") as file:\n",
    "        print(file.read())          # close file automatically\n",
    "    print(file.closed)\n",
    "except FileNotFoundError:\n",
    "    print(\"File not found :(\")"
   ]
  },
  {
   "cell_type": "markdown",
   "metadata": {},
   "source": [
    "## File writing"
   ]
  },
  {
   "cell_type": "code",
   "execution_count": 29,
   "metadata": {},
   "outputs": [],
   "source": [
    "with open(\"text.txt\", \"a\") as file:         # 'w': overwrite, 'a': append\n",
    "    file.write(\"OMG you're so gorgeous!\\n\")"
   ]
  },
  {
   "cell_type": "markdown",
   "metadata": {},
   "source": [
    "## File copying"
   ]
  },
  {
   "cell_type": "code",
   "execution_count": 31,
   "metadata": {},
   "outputs": [
    {
     "data": {
      "text/plain": [
       "'text-copy.txt'"
      ]
     },
     "execution_count": 31,
     "metadata": {},
     "output_type": "execute_result"
    }
   ],
   "source": [
    "import shutil\n",
    "shutil.copyfile('text.txt', 'text-copy.txt')"
   ]
  },
  {
   "cell_type": "markdown",
   "metadata": {},
   "source": [
    "## File moving"
   ]
  },
  {
   "cell_type": "code",
   "execution_count": 35,
   "metadata": {},
   "outputs": [
    {
     "name": "stdout",
     "output_type": "stream",
     "text": [
      "There already exists a file.\n"
     ]
    }
   ],
   "source": [
    "import os\n",
    "src = 'text.txt'\n",
    "dst = '\\\\test-folder'\n",
    "try:\n",
    "    if os.path.exists(dst):\n",
    "        print(\"There already exists a file.\")\n",
    "    else:\n",
    "        os.replace(src, dst)\n",
    "        print(src + \" was moved.\")\n",
    "except FileNotFoundError:\n",
    "    print(src + \"not found :(\")"
   ]
  },
  {
   "cell_type": "markdown",
   "metadata": {},
   "source": [
    "## File deletion"
   ]
  },
  {
   "cell_type": "code",
   "execution_count": 37,
   "metadata": {},
   "outputs": [
    {
     "name": "stdout",
     "output_type": "stream",
     "text": [
      "File not found :(\n"
     ]
    }
   ],
   "source": [
    "import os\n",
    "import shutil\n",
    "path = 'text-2.txt'\n",
    "try:\n",
    "    os.remove(path)         # delete a file\n",
    "    # os.rmdir(path)        # delete an empty directory\n",
    "    # shutil.rmtree(path)   # delete an non-empty directory\n",
    "except FileNotFoundError:\n",
    "    print(\"File not found :(\")\n",
    "except PermissionError:\n",
    "    print(\"You do not have permission to delete that.\")\n",
    "except OSError:\n",
    "    print(\"You do not have permission to delete that.\")\n",
    "else:\n",
    "    print(path + \" was deleted.\")"
   ]
  },
  {
   "cell_type": "markdown",
   "metadata": {},
   "source": [
    "# Modules"
   ]
  },
  {
   "cell_type": "markdown",
   "metadata": {},
   "source": [
    "Module is a file containing Python code. It may contain functions, classes, etc. It is used with modular programming, which is to seperate a program into parts."
   ]
  },
  {
   "cell_type": "code",
   "execution_count": 39,
   "metadata": {},
   "outputs": [
    {
     "name": "stdout",
     "output_type": "stream",
     "text": [
      "Hello! Have a good day!\n",
      "Bye! See ya!\n"
     ]
    }
   ],
   "source": [
    "from messages import hello, goodbye\n",
    "hello()\n",
    "goodbye()"
   ]
  },
  {
   "cell_type": "code",
   "execution_count": 40,
   "metadata": {},
   "outputs": [
    {
     "name": "stdout",
     "output_type": "stream",
     "text": [
      "\n",
      "Please wait a moment while I gather a list of all available modules...\n",
      "\n"
     ]
    },
    {
     "name": "stderr",
     "output_type": "stream",
     "text": [
      "c:\\Users\\Nguyen Ngo Huy\\AppData\\Local\\Programs\\Python\\Python310\\lib\\pkgutil.py:107: VisibleDeprecationWarning: zmq.eventloop.minitornado is deprecated in pyzmq 14.0 and will be removed.\n",
      "    Install tornado itself to use zmq with the tornado IOLoop.\n",
      "    \n",
      "  yield from walk_packages(path, info.name+'.', onerror)\n"
     ]
    },
    {
     "name": "stdout",
     "output_type": "stream",
     "text": [
      "IPython             audioop             matplotlib_inline   subprocess\n",
      "__future__          backcall            messages            sunau\n",
      "_abc                base64              mimetypes           symtable\n",
      "_aix_support        bdb                 mmap                sys\n",
      "_ast                binascii            mmapfile            sysconfig\n",
      "_asyncio            binhex              mmsystem            tabnanny\n",
      "_bisect             bisect              modulefinder        tarfile\n",
      "_blake2             builtins            msilib              telnetlib\n",
      "_bootsubprocess     bz2                 msvcrt              tempfile\n",
      "_bz2                cProfile            multiprocessing     test\n",
      "_cffi_backend       calendar            nest_asyncio        textwrap\n",
      "_codecs             cffi                netbios             this\n",
      "_codecs_cn          cgi                 netrc               threading\n",
      "_codecs_hk          cgitb               nntplib             time\n",
      "_codecs_iso2022     chunk               nt                  timeit\n",
      "_codecs_jp          cmath               ntpath              timer\n",
      "_codecs_kr          cmd                 ntsecuritycon       tkinter\n",
      "_codecs_tw          code                nturl2path          token\n",
      "_collections        codecs              numbers             tokenize\n",
      "_collections_abc    codeop              odbc                tornado\n",
      "_compat_pickle      collections         opcode              trace\n",
      "_compression        colorama            operator            traceback\n",
      "_contextvars        colorsys            optparse            tracemalloc\n",
      "_csv                commctrl            os                  traitlets\n",
      "_ctypes             compileall          packaging           tty\n",
      "_ctypes_test        concurrent          parso               turtle\n",
      "_datetime           configparser        pathlib             turtledemo\n",
      "_decimal            contextlib          pdb                 types\n",
      "_distutils_hack     contextvars         perfmon             typing\n",
      "_elementtree        copy                pickle              unicodedata\n",
      "_functools          copyreg             pickleshare         unittest\n",
      "_hashlib            crypt               pickletools         urllib\n",
      "_heapq              csv                 pip                 uu\n",
      "_imp                ctypes              pipes               uuid\n",
      "_io                 curses              pkg_resources       venv\n",
      "_json               dataclasses         pkgutil             warnings\n",
      "_locale             datetime            platform            wave\n",
      "_lsprof             dateutil            plistlib            wcwidth\n",
      "_lzma               dbi                 poplib              weakref\n",
      "_markupbase         dbm                 posixpath           webbrowser\n",
      "_md5                dde                 pprint              win2kras\n",
      "_msi                debugpy             profile             win32api\n",
      "_multibytecodec     decimal             prompt_toolkit      win32clipboard\n",
      "_multiprocessing    decorator           pstats              win32com\n",
      "_opcode             difflib             psutil              win32con\n",
      "_operator           dis                 pty                 win32console\n",
      "_osx_support        distutils           pure_eval           win32cred\n",
      "_overlapped         doctest             py_compile          win32crypt\n",
      "_pickle             email               pyclbr              win32cryptcon\n",
      "_py_abc             encodings           pycparser           win32event\n",
      "_pydecimal          ensurepip           pydoc               win32evtlog\n",
      "_pyio               entrypoints         pydoc_data          win32evtlogutil\n",
      "_queue              enum                pyexpat             win32file\n",
      "_random             errno               pygments            win32gui\n",
      "_sha1               executing           pyparsing           win32gui_struct\n",
      "_sha256             faulthandler        pythoncom           win32help\n",
      "_sha3               filecmp             pywin               win32inet\n",
      "_sha512             fileinput           pywin32_bootstrap   win32inetcon\n",
      "_signal             fnmatch             pywin32_testutil    win32job\n",
      "_sitebuiltins       fractions           pywintypes          win32lz\n",
      "_socket             ftplib              queue               win32net\n",
      "_sqlite3            functools           quopri              win32netcon\n",
      "_sre                gc                  radian              win32pdh\n",
      "_ssl                genericpath         random              win32pdhquery\n",
      "_stat               getopt              rasutil             win32pdhutil\n",
      "_statistics         getpass             rchitect            win32pipe\n",
      "_string             gettext             re                  win32print\n",
      "_strptime           glob                regcheck            win32process\n",
      "_struct             graphlib            regutil             win32profile\n",
      "_symtable           gzip                reprlib             win32ras\n",
      "_testbuffer         hashlib             rlcompleter         win32rcparser\n",
      "_testcapi           heapq               runpy               win32security\n",
      "_testconsole        hmac                sched               win32service\n",
      "_testimportmultiple html                secrets             win32serviceutil\n",
      "_testinternalcapi   http                select              win32timezone\n",
      "_testmultiphase     idlelib             selectors           win32trace\n",
      "_thread             imaplib             servicemanager      win32traceutil\n",
      "_threading_local    imghdr              setuptools          win32transaction\n",
      "_tkinter            imp                 shelve              win32ts\n",
      "_tracemalloc        importlib           shlex               win32ui\n",
      "_uuid               inspect             shutil              win32uiole\n",
      "_warnings           io                  signal              win32verstamp\n",
      "_weakref            ipaddress           site                win32wnet\n",
      "_weakrefset         ipykernel           six                 winerror\n",
      "_win32sysloader     ipykernel_launcher  smtpd               winioctlcon\n",
      "_winapi             isapi               smtplib             winnt\n",
      "_winxptheme         itertools           sndhdr              winperf\n",
      "_xxsubinterpreters  jedi                socket              winreg\n",
      "_zoneinfo           json                socketserver        winsound\n",
      "abc                 jupyter             sqlite3             winxpgui\n",
      "adodbapi            jupyter_client      sre_compile         winxptheme\n",
      "afxres              jupyter_core        sre_constants       wsgiref\n",
      "aifc                keyword             sre_parse           xdrlib\n",
      "antigravity         lib2to3             ssl                 xml\n",
      "argparse            linecache           sspi                xmlrpc\n",
      "array               locale              sspicon             xxsubtype\n",
      "ast                 logging             stack_data          zipapp\n",
      "asttokens           lzma                stat                zipfile\n",
      "asynchat            mailbox             statistics          zipimport\n",
      "asyncio             mailcap             string              zlib\n",
      "asyncore            marshal             stringprep          zmq\n",
      "atexit              math                struct              zoneinfo\n",
      "\n",
      "Enter any module name to get more help.  Or, type \"modules spam\" to search\n",
      "for modules whose name or summary contain the string \"spam\".\n",
      "\n"
     ]
    }
   ],
   "source": [
    "help(\"modules\")"
   ]
  }
 ],
 "metadata": {
  "kernelspec": {
   "display_name": "Python 3.10.4 64-bit",
   "language": "python",
   "name": "python3"
  },
  "language_info": {
   "codemirror_mode": {
    "name": "ipython",
    "version": 3
   },
   "file_extension": ".py",
   "mimetype": "text/x-python",
   "name": "python",
   "nbconvert_exporter": "python",
   "pygments_lexer": "ipython3",
   "version": "3.10.4"
  },
  "orig_nbformat": 4,
  "vscode": {
   "interpreter": {
    "hash": "f4bb9b4778f2aca04b16c281ce2db762fb4b427f308f38e9084b3db9cea62b88"
   }
  }
 },
 "nbformat": 4,
 "nbformat_minor": 2
}
