{
 "cells": [
  {
   "cell_type": "markdown",
   "metadata": {},
   "source": [
    "# Basic Python"
   ]
  },
  {
   "cell_type": "markdown",
   "metadata": {},
   "source": [
    "Source: https://youtu.be/XKHEtdqhLK8, stops at 01:21:07"
   ]
  },
  {
   "cell_type": "markdown",
   "metadata": {},
   "source": [
    "## String"
   ]
  },
  {
   "cell_type": "markdown",
   "metadata": {},
   "source": [
    "### String methods"
   ]
  },
  {
   "cell_type": "code",
   "execution_count": 1,
   "metadata": {},
   "outputs": [
    {
     "name": "stdout",
     "output_type": "stream",
     "text": [
      "20\n",
      "PYTHON FOR BEGINNERS\n",
      "python for beginners\n",
      "Python for beginners\n",
      "False\n",
      "False\n",
      "2\n",
      "11\n",
      "Python for Absolute Beginners\n",
      "True\n",
      "False\n"
     ]
    }
   ],
   "source": [
    "course = 'Python for Beginners'\n",
    "print(len(course)) # 20\n",
    "print(course.upper()) # PYTHON FOR BEGINNERS\n",
    "print(course.lower()) # python for beginners\n",
    "print(course.capitalize()) # Python for Beginners\n",
    "print(course.isdigit()) # False\n",
    "print(course.isalpha()) # False # contains a space\n",
    "print(course.count(\"o\")) # 2\n",
    "print(course.find('Beginners')) # 11\n",
    "print(course.replace('Beginners', 'Absolute Beginners')) # Python for Absolute Beginners\n",
    "print('Python' in course) # True\n",
    "print('python' in course) # False"
   ]
  },
  {
   "cell_type": "markdown",
   "metadata": {},
   "source": [
    "##### Type casting"
   ]
  },
  {
   "cell_type": "code",
   "execution_count": 5,
   "metadata": {},
   "outputs": [
    {
     "name": "stdout",
     "output_type": "stream",
     "text": [
      "Your weight (in kg) is: 31.75144\n"
     ]
    }
   ],
   "source": [
    "weight_lbs = 70 # input('Your weight (in lbs) is: ')\n",
    "weight_kg = float(weight_lbs) * 0.453592\n",
    "print('Your weight (in kg) is: ' + str(weight_kg))"
   ]
  },
  {
   "cell_type": "markdown",
   "metadata": {},
   "source": [
    "##### User input"
   ]
  },
  {
   "cell_type": "code",
   "execution_count": 7,
   "metadata": {},
   "outputs": [
    {
     "name": "stdout",
     "output_type": "stream",
     "text": [
      "Hello Huy\n",
      "You are 18 years old\n",
      "You are 170.4 cm tall\n"
     ]
    }
   ],
   "source": [
    "name = input(\"What is your name?: \")\n",
    "age = int(input(\"How old are you?: \"))\n",
    "height = float(input(\"How tall are you?: \"))\n",
    "\n",
    "print(\"Hello \" + name)\n",
    "print(\"You are \" + str(age) + \" years old\")\n",
    "print(\"You are \" + str(height) + \" cm tall\")"
   ]
  },
  {
   "cell_type": "markdown",
   "metadata": {},
   "source": [
    "##### Math operators"
   ]
  },
  {
   "cell_type": "code",
   "execution_count": 8,
   "metadata": {},
   "outputs": [
    {
     "name": "stdout",
     "output_type": "stream",
     "text": [
      "3\n",
      "4\n",
      "3\n",
      "3.14\n",
      "9.8596\n",
      "1.772004514666935\n",
      "3\n",
      "2\n"
     ]
    }
   ],
   "source": [
    "import math # https://docs.python.org/3/library/math.html\n",
    "\n",
    "pi = 3.14\n",
    "x = 1\n",
    "y = 2\n",
    "z = 3\n",
    "\n",
    "print(round(pi))\n",
    "print(math.ceil(pi))\n",
    "print(math.floor(pi))\n",
    "print(abs(pi))\n",
    "print(pow(pi, 2))\n",
    "print(math.sqrt(pi))\n",
    "print(max(x, y, z))\n",
    "print(min(z, y, z))"
   ]
  },
  {
   "cell_type": "markdown",
   "metadata": {},
   "source": [
    "##### String slicing"
   ]
  },
  {
   "cell_type": "code",
   "execution_count": 10,
   "metadata": {},
   "outputs": [
    {
     "name": "stdout",
     "output_type": "stream",
     "text": [
      "My name is Ngo Huy\n",
      "My name is Ng\n",
      "me is Ng\n",
      "y name is Ngo Hu\n",
      "yuH ogN si eman yM\n",
      "M aei g u\n"
     ]
    }
   ],
   "source": [
    "course = \"My name is Ngo Huy\" # [start:stop:step]\n",
    "print(course[0:])       # [0:end]\n",
    "print(course[0:13])     # [0:13]\n",
    "print(course[5:13])     # [5:13]\n",
    "print(course[1:-1])     # [1:-1]\n",
    "print(course[::-1])     # [0:end:-1] reverse string\n",
    "print(course[::2])      # [0:end:2]"
   ]
  },
  {
   "cell_type": "code",
   "execution_count": 16,
   "metadata": {},
   "outputs": [
    {
     "name": "stdout",
     "output_type": "stream",
     "text": [
      "google\n",
      "wikipedia\n"
     ]
    }
   ],
   "source": [
    "website1 = \"https://google.com\"\n",
    "website2 = \"https://wikipedia.com\"\n",
    "slice = __builtin__.slice(8, -4) #Now that's strange. Are you running it in a clean notebook? The only reason I could see that happening is if slice was reassigned.\n",
    "print(website1[slice])\n",
    "print(website2[slice])"
   ]
  },
  {
   "cell_type": "markdown",
   "metadata": {},
   "source": [
    "## If- statement"
   ]
  },
  {
   "cell_type": "code",
   "execution_count": 19,
   "metadata": {},
   "outputs": [
    {
     "name": "stdout",
     "output_type": "stream",
     "text": [
      "You are fucking old!\n"
     ]
    }
   ],
   "source": [
    "age = int(input(\"How old are you?: \"))\n",
    "if age >= 18 and age < 100:\n",
    "    print(\"You are an adult!\")\n",
    "elif age == 100:\n",
    "    print(\"You are fucking old!\")\n",
    "elif age < 0:\n",
    "    print(\"You haven't been born yet!\")\n",
    "else:\n",
    "    print(\"You are a child!\")"
   ]
  },
  {
   "cell_type": "code",
   "execution_count": 27,
   "metadata": {},
   "outputs": [
    {
     "name": "stdout",
     "output_type": "stream",
     "text": [
      "Let's stay inside and Netflix-and-chill!\n"
     ]
    }
   ],
   "source": [
    "temp = int(input(\"What is the temperature outside?: \"))\n",
    "if temp >= 14 and temp <= 30:\n",
    "    print(\"Let's go outside!\")\n",
    "else:\n",
    "    print(\"Let's stay inside and Netflix-and-chill!\")"
   ]
  },
  {
   "cell_type": "markdown",
   "metadata": {},
   "source": [
    "## Loops"
   ]
  },
  {
   "cell_type": "markdown",
   "metadata": {},
   "source": [
    "### While- loop"
   ]
  },
  {
   "cell_type": "code",
   "execution_count": 29,
   "metadata": {},
   "outputs": [
    {
     "name": "stdout",
     "output_type": "stream",
     "text": [
      "Hello Huy\n"
     ]
    }
   ],
   "source": [
    "name = \"\"\n",
    "while not name: # len(name) == 0:\n",
    "    name = input(\"Enter your name: \") # print input name until user input his name\n",
    "print(\"Hello \" + name)"
   ]
  },
  {
   "cell_type": "markdown",
   "metadata": {},
   "source": [
    "### For- loop"
   ]
  },
  {
   "cell_type": "code",
   "execution_count": 43,
   "metadata": {},
   "outputs": [
    {
     "name": "stdout",
     "output_type": "stream",
     "text": [
      "10\n",
      "9\n",
      "8\n",
      "7\n",
      "6\n",
      "5\n",
      "4\n",
      "3\n",
      "2\n",
      "1\n",
      "Happy New Year!\n"
     ]
    }
   ],
   "source": [
    "# for i in range(50, 60 + 1, 2): # range(start, stop, step)\n",
    "#     print(i)\n",
    "\n",
    "# for i in \"Nguyen Ngo Huy\":\n",
    "#     print(i)\n",
    "\n",
    "import time\n",
    "for seconds in range(10, 0, -1):\n",
    "    print(seconds)\n",
    "    time.sleep(1)\n",
    "print(\"Happy New Year!\")"
   ]
  },
  {
   "cell_type": "markdown",
   "metadata": {},
   "source": [
    "### Nested loop"
   ]
  },
  {
   "cell_type": "code",
   "execution_count": 46,
   "metadata": {},
   "outputs": [
    {
     "name": "stdout",
     "output_type": "stream",
     "text": [
      "$$$$$$$$$$$$$$\n",
      "$$$$$$$$$$$$$$\n",
      "$$$$$$$$$$$$$$\n"
     ]
    }
   ],
   "source": [
    "rows = int(input(\"How many rows?: \"))\n",
    "cols = int(input(\"How many columns?: \"))\n",
    "symb = input(\"Enter a symbol: \")\n",
    "\n",
    "for i in range(rows):\n",
    "    for y in range(cols):\n",
    "        print(symb, end = \"\")\n",
    "    print()"
   ]
  },
  {
   "cell_type": "markdown",
   "metadata": {},
   "source": [
    "### Loop control statement"
   ]
  },
  {
   "cell_type": "code",
   "execution_count": 10,
   "metadata": {},
   "outputs": [
    {
     "name": "stdout",
     "output_type": "stream",
     "text": [
      "1, 2, 3, 4, 5, 6, 7, 8, 9, 10, 11, 12, 14, 15, 16, 17, 18, 19, 20\n"
     ]
    }
   ],
   "source": [
    "# while True:\n",
    "#     name = input(\"Enter your name: \")\n",
    "#     if name != \"\":\n",
    "#         break                     # terminates the loop entirely\n",
    "\n",
    "# phone_number = \"096-1808-055\"\n",
    "# for i in phone_number:\n",
    "#     if i == \"-\":\n",
    "#         continue                  # skips to the next iteration of the loop\n",
    "#     print(i, end = \"\")\n",
    "\n",
    "for i in range(1, 21):\n",
    "    if i == 13:\n",
    "        pass                        # does fucking nothing, acts as a placeholder\n",
    "    elif i != 20:\n",
    "        print(i, end = \", \")\n",
    "    else:\n",
    "        print(i)"
   ]
  },
  {
   "cell_type": "markdown",
   "metadata": {},
   "source": [
    "## Lists"
   ]
  },
  {
   "cell_type": "markdown",
   "metadata": {},
   "source": [
    "### List methods"
   ]
  },
  {
   "cell_type": "code",
   "execution_count": 22,
   "metadata": {},
   "outputs": [
    {
     "name": "stdout",
     "output_type": "stream",
     "text": [
      "cake\n",
      "sushi\n",
      "hamburger\n",
      "hotdog\n",
      "ice cream\n"
     ]
    }
   ],
   "source": [
    "food = [\"pizza\", \"hamburger\", \"hotdog\"]\n",
    "food[0] = \"sushi\"\n",
    "food.append(\"ice cream\")\n",
    "# food.remove(\"hotdog\")\n",
    "# food.pop()\n",
    "food.insert(0, \"cake\")\n",
    "# food.sort()\n",
    "# food.clear()\n",
    "for i in food:\n",
    "    print(i)"
   ]
  },
  {
   "cell_type": "markdown",
   "metadata": {},
   "source": [
    "### Multi-dimensional Lists"
   ]
  },
  {
   "cell_type": "code",
   "execution_count": 26,
   "metadata": {},
   "outputs": [
    {
     "name": "stdout",
     "output_type": "stream",
     "text": [
      "[['coffee', 'soda', 'tea'], ['pizza', 'hamburger', 'hotdog'], ['cake', 'ice cream']]\n",
      "----------\n",
      "hamburger\n"
     ]
    }
   ],
   "source": [
    "drinks = [\"coffee\", \"soda\", \"tea\"]\n",
    "dinner = [\"pizza\", \"hamburger\", \"hotdog\"]\n",
    "dessert = [\"cake\", \"ice cream\"]\n",
    "\n",
    "food = [drinks, dinner, dessert]\n",
    "print(food)\n",
    "print(\"----------\")\n",
    "print(food[1][1])"
   ]
  },
  {
   "cell_type": "markdown",
   "metadata": {},
   "source": [
    "### Tuple"
   ]
  },
  {
   "cell_type": "markdown",
   "metadata": {},
   "source": [
    "A tuple is an ordered and unchangeable collection used to group related data together."
   ]
  },
  {
   "cell_type": "code",
   "execution_count": 33,
   "metadata": {},
   "outputs": [
    {
     "name": "stdout",
     "output_type": "stream",
     "text": [
      "1\n",
      "2\n",
      "Huy, 18, male\n",
      "Thank God Huy's here!\n"
     ]
    }
   ],
   "source": [
    "student = (\"Huy\", 18, \"male\")\n",
    "print(student.count(\"Huy\"))\n",
    "print(student.index(\"male\"))\n",
    "for i in student:\n",
    "    if i == \"male\":\n",
    "        print(i)\n",
    "    else:\n",
    "        print(i, end = \", \")\n",
    "if \"Huy\" in student:\n",
    "    print(\"Thank God Huy's here!\")"
   ]
  },
  {
   "cell_type": "markdown",
   "metadata": {},
   "source": [
    "### Set"
   ]
  },
  {
   "cell_type": "markdown",
   "metadata": {},
   "source": [
    "A set is an unordered and unindexed collection. A set does not contain any duplicate values."
   ]
  },
  {
   "cell_type": "code",
   "execution_count": 72,
   "metadata": {},
   "outputs": [
    {
     "name": "stdout",
     "output_type": "stream",
     "text": [
      "{'plate', 'bowl', 'cup'}\n",
      "{'fork', 'knife', 'spoon', 'chopsticks'}\n"
     ]
    }
   ],
   "source": [
    "utensils = {\"fork\", \"spoon\", \"knife\", \"chopsticks\", \"chopsticks\"}\n",
    "# utensils.add(\"napkin\")\n",
    "# utensils.remove(\"chopsticks\")\n",
    "dishes = {\"bowl\", \"plate\", \"cup\"}\n",
    "# utensils.update(dishes) # update one set to another\n",
    "dinner_table = utensils.union(dishes)\n",
    "# for i in utensils:\n",
    "#     print(i)\n",
    "\n",
    "# for i in dinner_table:\n",
    "#     print(i)\n",
    "\n",
    "print(dishes.difference(utensils)) # compare 2 sets\n",
    "print(utensils.difference(dishes)) # compare 2 sets"
   ]
  },
  {
   "cell_type": "markdown",
   "metadata": {},
   "source": [
    "### Dictionary"
   ]
  },
  {
   "cell_type": "markdown",
   "metadata": {},
   "source": [
    "A dictionary is a changeable, unordered collection of unique key:value pairs. The speed of dictionary is fast because it uses hasing, which allows us to access value quicker."
   ]
  },
  {
   "cell_type": "code",
   "execution_count": 91,
   "metadata": {},
   "outputs": [],
   "source": [
    "capitals = {\"USA\": \"Washington, DC.\",\n",
    "            \"India\": \"New Delhi\",\n",
    "            \"China\": \"Beijing\",\n",
    "            \"Vietnam\": \"Hanoi\"}\n",
    "capitals.update({\"Germany\": \"Berlin\"})\n",
    "capitals.update({\"USA\": \"New York\"})\n",
    "capitals.pop(\"China\")\n",
    "capitals.clear()\n",
    "\n",
    "# print(capitals[\"Vietnam\"])\n",
    "# print(capitals.get(\"Germany\"))\n",
    "# print(capitals.keys())\n",
    "# print(capitals.values())\n",
    "# print(capitals.items())\n",
    "\n",
    "for key, value in capitals.items():\n",
    "    print(\"The capital of \" + key + \" is \" + value + \".\")"
   ]
  },
  {
   "cell_type": "markdown",
   "metadata": {},
   "source": [
    "### Index operators"
   ]
  },
  {
   "cell_type": "code",
   "execution_count": 97,
   "metadata": {},
   "outputs": [
    {
     "name": "stdout",
     "output_type": "stream",
     "text": [
      "NGO\n",
      "huy\n",
      "y\n"
     ]
    }
   ],
   "source": [
    "name = \"ngo Huy\"\n",
    "\n",
    "# if (name[0].islower()):\n",
    "#     name = name.capitalize()\n",
    "\n",
    "first_name = name[0:3].upper()\n",
    "last_name = name[4:].lower()\n",
    "last_char = name[-1]\n",
    "\n",
    "print(first_name)\n",
    "print(last_name)\n",
    "print(last_char)"
   ]
  }
 ],
 "metadata": {
  "kernelspec": {
   "display_name": "Python 3.10.4 64-bit",
   "language": "python",
   "name": "python3"
  },
  "language_info": {
   "codemirror_mode": {
    "name": "ipython",
    "version": 3
   },
   "file_extension": ".py",
   "mimetype": "text/x-python",
   "name": "python",
   "nbconvert_exporter": "python",
   "pygments_lexer": "ipython3",
   "version": "3.10.4"
  },
  "orig_nbformat": 4,
  "vscode": {
   "interpreter": {
    "hash": "f4bb9b4778f2aca04b16c281ce2db762fb4b427f308f38e9084b3db9cea62b88"
   }
  }
 },
 "nbformat": 4,
 "nbformat_minor": 2
}
